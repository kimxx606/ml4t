{
 "cells": [
  {
   "cell_type": "markdown",
   "id": "a7db8ae0",
   "metadata": {},
   "source": [
    "# Intro\n",
    "\n",
    "- 알고리즘 트레이딩 : 트레이딩 전략의 일부 요소나 모든 요소를 자동화하고자 알고리즘을 실행하는 컴퓨터 프로그래밍\n",
    "- 알고리즘 : 목표를 달성하고자 설계된 일련의 절차나 규칙\n",
    "    - 아이디어 생성, 자산 배분, 거래 실행, 리스크 관리 등 투자 프로세스 전반의 최적화에 사용\n",
    "- 머신러닝 : 예측 오차 최소화 같은 목표를 달성하고자 데이터에서 규칙이나 패턴을 학습하는 알고리즘\n",
    "    - 이 책에서 예제는 머신러닝 알고리즘이 데이터에서 정보를 추출하고 핵심 투자 활동을 지원하거나 자동화 하는 방법 보여 줌\n",
    "    - 시장을 관찰하고 미래에 대한 기대를 형성하는 데이터를 분석\n",
    "    - 매수나 매도 주문을 결정\n",
    "    - 리스크와 관련된 매력적인 수익률 창출을 위한 포트폴리오 관리\n",
    "- 액티브 투자 운용의 목표는 알파 생성\n",
    "    - 알파 : 평가에 사용된 벤치마크를 초과하는 포트폴리오 수익\n",
    "- 정보 비율(IR, information ratio)\n",
    "    - 적극적인 투자 운용의 가치를 \"포트폴리오와 해당 수익률의 변동성\"에 \"벤치마크 간 수익\"률 차이의 비율로 표현 한 것 \n",
    "    - 결과와의 순위 상관관계로 예측의 질을 측정하는 정보 계수(IC, information Coefficient)\n",
    "    - 이런한 예측에 대한 독립 베팅 수로 표현되는 전략 폭(breadth of strategy)의 제곱근\n",
    "- 금융시장에서의 정교한 투자자의 경쟁\n",
    "    - 알파 생성하기 위한 정확한 예측\n",
    "    - 더 나은 데이터에 대한 액세스\n",
    "    - 데이터 처리 능력\n",
    "    - 이를 통한 우수한 정보 필요\n",
    "- 머신러닝의 역할 및 목표\n",
    "    - 빠르게 다양해 지는 데이터 범위를 더 효율적으로 사용\n",
    "    - 더 나은 예측과 실행 가능한 예측을 생성\n",
    "    - 투자 의사 결정과 결과의 품질 개선\n",
    "- 과거의 알고리즘 트레이딩\n",
    "    - 매도하는 측에서 내는 비용을 최소화하는 거래 주문의 자동화\n",
    "- 이 책의 알고리즘 트레이딩\n",
    "    - 머신러닝을 사용, 아이디어 생성, \n",
    "    - 데이터에서 신호를 추출 \n",
    "    - 자산 배분\n",
    "    - 포지션 조정\n",
    "    - 거래 전략의 테스트 및 평가 \n",
    "- 이번 장의 주제\n",
    "    - 투자 산업에서 머신러닝이 부상하게 된 주요 트랜드는 무엇?\n",
    "    - 머신러닝을 활용하는 트레이딩 전략의 설계와 실행에는 어떤 것이 있나?\n",
    "    - 트레이딩에서 머신러닝의 인기 있는 사용 사례는?"
   ]
  },
  {
   "cell_type": "markdown",
   "id": "a40b14f1",
   "metadata": {},
   "source": [
    "# 투자업계에서 머신러닝의 부상"
   ]
  },
  {
   "cell_type": "markdown",
   "id": "b04a4003",
   "metadata": {},
   "source": [
    "## 전자 거래에서 고빈도 매매(HFT)까지"
   ]
  },
  {
   "cell_type": "markdown",
   "id": "ead31ec6",
   "metadata": {},
   "source": [
    "## 팩터 투자와 스마트 베타 펀드"
   ]
  },
  {
   "cell_type": "markdown",
   "id": "027fbc87",
   "metadata": {},
   "source": [
    "## 알고리즘 개척자는 인간보다 우위에 있다"
   ]
  },
  {
   "cell_type": "markdown",
   "id": "d08b157b",
   "metadata": {},
   "source": [
    "**머신러닝 기반 펀드 1조 달러 운용 자산 유치**"
   ]
  },
  {
   "cell_type": "markdown",
   "id": "78fef331",
   "metadata": {},
   "source": [
    "**퀀트멘달 펀드의 출연**"
   ]
  },
  {
   "cell_type": "markdown",
   "id": "6ef5d234",
   "metadata": {},
   "source": [
    "**전략적 능력에 대한 투자**"
   ]
  },
  {
   "cell_type": "markdown",
   "id": "7a6200c7",
   "metadata": {},
   "source": [
    "## 머신러닝과 대체 데이터"
   ]
  },
  {
   "cell_type": "markdown",
   "id": "f4753ef2",
   "metadata": {},
   "source": [
    "## 클라우드 소싱 거래 알고리즘"
   ]
  },
  {
   "cell_type": "markdown",
   "id": "d3298e00",
   "metadata": {},
   "source": [
    "# 머신러닝 기반 전략의 설계와 실행"
   ]
  },
  {
   "cell_type": "markdown",
   "id": "05805c00",
   "metadata": {},
   "source": [
    "## 데이터의 소싱과 관리"
   ]
  },
  {
   "cell_type": "markdown",
   "id": "8a432e72",
   "metadata": {},
   "source": [
    "## 알파 팩터 리서치에서 포트폴리오 관리까지"
   ]
  },
  {
   "cell_type": "markdown",
   "id": "81247cb9",
   "metadata": {},
   "source": [
    "**리서리 스텝**"
   ]
  },
  {
   "cell_type": "markdown",
   "id": "762ac862",
   "metadata": {},
   "source": [
    "**실행 스텝**"
   ]
  },
  {
   "cell_type": "markdown",
   "id": "f9fb51d8",
   "metadata": {},
   "source": [
    "## 전략 백테스팅"
   ]
  },
  {
   "cell_type": "markdown",
   "id": "ecabe898",
   "metadata": {},
   "source": [
    "# 트레이딩을 위한 머신러닝 : 전략과 사용사례"
   ]
  },
  {
   "cell_type": "markdown",
   "id": "d1f762e0",
   "metadata": {},
   "source": [
    "## 알고리즘 트레이딩의 진화"
   ]
  },
  {
   "cell_type": "markdown",
   "id": "f26d84f8",
   "metadata": {},
   "source": [
    "## 거래를 위한 머신러닝 사용 사례"
   ]
  },
  {
   "cell_type": "markdown",
   "id": "84f74cf0",
   "metadata": {},
   "source": [
    "**특성 추출과 통찰력을 위한 데이터 마이닝**"
   ]
  },
  {
   "cell_type": "markdown",
   "id": "8527300b",
   "metadata": {},
   "source": [
    "**알파 팩터 창출을 위한 지도학습**"
   ]
  },
  {
   "cell_type": "markdown",
   "id": "65c0b64b",
   "metadata": {},
   "source": [
    "**자산 배분**"
   ]
  },
  {
   "cell_type": "markdown",
   "id": "d9e93196",
   "metadata": {},
   "source": [
    "**거래 아이디어 테스트**"
   ]
  },
  {
   "cell_type": "markdown",
   "id": "3f21f09a",
   "metadata": {},
   "source": [
    "**강화 학습**"
   ]
  },
  {
   "cell_type": "markdown",
   "id": "e96ea88a",
   "metadata": {},
   "source": [
    "# 요약"
   ]
  },
  {
   "cell_type": "code",
   "execution_count": null,
   "id": "4869f27c",
   "metadata": {},
   "outputs": [],
   "source": []
  }
 ],
 "metadata": {
  "kernelspec": {
   "display_name": "Python 3 (ipykernel)",
   "language": "python",
   "name": "python3"
  },
  "language_info": {
   "codemirror_mode": {
    "name": "ipython",
    "version": 3
   },
   "file_extension": ".py",
   "mimetype": "text/x-python",
   "name": "python",
   "nbconvert_exporter": "python",
   "pygments_lexer": "ipython3",
   "version": "3.10.9"
  },
  "toc": {
   "base_numbering": 1,
   "nav_menu": {},
   "number_sections": true,
   "sideBar": true,
   "skip_h1_title": false,
   "title_cell": "Table of Contents",
   "title_sidebar": "Contents",
   "toc_cell": false,
   "toc_position": {},
   "toc_section_display": true,
   "toc_window_display": false
  }
 },
 "nbformat": 4,
 "nbformat_minor": 5
}
